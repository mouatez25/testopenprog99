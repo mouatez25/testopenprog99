{
 "cells": [
  {
   "cell_type": "code",
   "execution_count": null,
   "id": "15fd4516-8760-4e07-bce1-fc3dd7b08602",
   "metadata": {},
   "outputs": [],
   "source": [
    "eeasfsdfs"
   ]
  }
 ],
 "metadata": {
  "kernelspec": {
   "display_name": "Python_3.9",
   "language": "python",
   "name": "python_3.9"
  },
  "language_info": {
   "codemirror_mode": {
    "name": "ipython",
    "version": 3
   },
   "file_extension": ".py",
   "mimetype": "text/x-python",
   "name": "python",
   "nbconvert_exporter": "python",
   "pygments_lexer": "ipython3",
   "version": "3.9.14"
  }
 },
 "nbformat": 4,
 "nbformat_minor": 5
}
