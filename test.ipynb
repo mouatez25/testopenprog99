{
 "cells": [
  {
   "cell_type": "code",
   "execution_count": null,
   "id": "15fd4516-8760-4e07-bce1-fc3dd7b08602",
   "metadata": {},
   "outputs": [],
   "source": [
    "eeasfsdfs"
   ]
  },
  {
   "cell_type": "code",
   "execution_count": null,
   "id": "7d052cd8-f7dc-421c-9c34-ea2c3e25844d",
   "metadata": {},
   "outputs": [],
   "source": [
    "test openprog99"
   ]
  }
 ],
 "metadata": {
  "kernelspec": {
   "display_name": "Python 3.11.2",
   "language": "python",
   "name": "python3"
  },
  "language_info": {
   "codemirror_mode": {
    "name": "ipython",
    "version": 3
   },
   "file_extension": ".py",
   "mimetype": "text/x-python",
   "name": "python",
   "nbconvert_exporter": "python",
   "pygments_lexer": "ipython3",
   "version": "3.11.2"
  }
 },
 "nbformat": 4,
 "nbformat_minor": 5
}
